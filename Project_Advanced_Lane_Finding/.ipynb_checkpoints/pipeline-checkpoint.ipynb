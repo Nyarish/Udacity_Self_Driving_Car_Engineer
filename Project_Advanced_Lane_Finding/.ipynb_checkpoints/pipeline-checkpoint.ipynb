{
 "cells": [
  {
   "cell_type": "code",
   "execution_count": 1,
   "metadata": {},
   "outputs": [],
   "source": [
    "# Get imports\n",
    "import pickle\n",
    "import numpy as np\n",
    "import cv2\n",
    "import glob\n",
    "import matplotlib.pyplot as plt\n",
    "import matplotlib.image as mpimg\n",
    "%matplotlib qt"
   ]
  },
  {
   "cell_type": "code",
   "execution_count": 2,
   "metadata": {},
   "outputs": [],
   "source": [
    "# Get helper functions\n",
    "import camera_calibrator\n",
    "import distortion_correction\n",
    "import image_binary_gradient\n",
    "import perspective_transform\n",
    "import detect_lane_pixels\n",
    "import measure_curvature"
   ]
  },
  {
   "cell_type": "code",
   "execution_count": 3,
   "metadata": {},
   "outputs": [],
   "source": [
    "# Files to undistort\n",
    "calibration1 = ('./camera_cal/calibration1.jpg')\n",
    "straight_lines1 = ('./test_images/straight_lines1.jpg')\n",
    "straight_lines2 = ('./test_images/straight_lines2.jpg')\n",
    "test1 = ('./test_images/test1.jpg')\n",
    "test2 = ('./test_images/test2.jpg')\n",
    "test3 = ('./test_images/test3.jpg')\n",
    "test4 = ('./test_images/test4.jpg')\n",
    "test5 = ('./test_images/test5.jpg')\n",
    "test6 = ('./test_images/test6.jpg')\n",
    "\n",
    "def visualizebinary_image(undist_img, binary_image):\n",
    "    f, (ax1, ax2) = plt.subplots(1, 2, figsize=(20, 10))\n",
    "    f.tight_layout()\n",
    "    ax1.imshow(undist_img, cmap='gray')\n",
    "    ax1.set_title('Undistorted Image', fontsize=15)\n",
    "    ax2.imshow(binary_image, cmap='gray')\n",
    "    ax2.set_title('Binary_image', fontsize=15)\n",
    "    \n",
    "    \n",
    "def visualize(undist_img, warped_img):\n",
    "    f, (ax1, ax2) = plt.subplots(1, 2, figsize=(20, 10))\n",
    "    f.tight_layout()\n",
    "    ax1.imshow(undist_img)\n",
    "    ax1.set_title('Undistorted Image', fontsize=15)\n",
    "    ax2.imshow(warped_img)\n",
    "    ax2.set_title('Undistorted and Top_down Image', fontsize=15)\n",
    "    \n",
    "def visualize_result(original_img , result):\n",
    "    f, (ax1, ax2) = plt.subplots(1, 2, figsize=(20, 10))\n",
    "    f.tight_layout()\n",
    "    ax1.imshow(original_img)\n",
    "    ax1.set_title('Original Undistorted Image', fontsize=15)\n",
    "    ax2.imshow(result)\n",
    "    ax2.set_title('Marked lane Image', fontsize=15)"
   ]
  },
  {
   "cell_type": "code",
   "execution_count": null,
   "metadata": {},
   "outputs": [],
   "source": []
  },
  {
   "cell_type": "code",
   "execution_count": 4,
   "metadata": {},
   "outputs": [],
   "source": [
    "def pipeline(image):\n",
    "    \n",
    "    # Get matrix from calibration\n",
    "    mtx, dist = camera_calibrator.get_calibration_matrix()\n",
    "    \n",
    "#     LUV = image\n",
    "#     lab = cv2.cvtColor(LUV, cv2.COLOR_RGB2LUV)\n",
    "    \n",
    "#     lab_planes = cv2.split(lab)\n",
    "#     gridsize = 8\n",
    "#     clahe = cv2.createCLAHE(clipLimit=2.0,tileGridSize=(gridsize,gridsize))\n",
    "#     lab_planes[0] = clahe.apply(lab_planes[0])\n",
    "#     lab = cv2.merge(lab_planes)\n",
    "#     image_original = cv2.cvtColor(lab, cv2.COLOR_LUV2RGB)\n",
    "    \n",
    "    # Undistoretd image \n",
    "    undist_img = distortion_correction.get_undistorted_image(image, mtx, dist, gray_scale=False)#image_original\n",
    "    \n",
    "    # Binary Image \n",
    "    \n",
    "    # get_binary_image(undist_img, s_thresh=(170, 255), sx_thresh=(20, 100))\n",
    "    binary_image = image_binary_gradient.get_binary(undist_img)\n",
    "    \n",
    "    # Perspective trasform\n",
    "    top_down = perspective_transform.get_transformed_perspective(binary_image)  \n",
    "    \n",
    "    # Warp the color zone back to original image space using inverse perspective matrix (Minv)\n",
    "    color_zone_warp = measure_curvature.get_color_zone_warp(top_down)\n",
    "    newwarp  = perspective_transform.get_original_perspective(color_zone_warp)\n",
    "\n",
    "    original_img = cv2.addWeighted(image_original, 1, newwarp, 0.3, 0)#image\n",
    "    result = measure_curvature.add_text(original_img, top_down)\n",
    "    \n",
    "    # If gray scale convert to triple channel format\n",
    "    \n",
    "    if len(result.shape) == 2:\n",
    "        result = np.dstack((original_img,)*3)\n",
    "\n",
    "    # If binary image, scale to full 8-bit values\n",
    "    if np.max(result) <= 1:\n",
    "        result *= 255\n",
    "    \n",
    "    return result"
   ]
  },
  {
   "cell_type": "code",
   "execution_count": 5,
   "metadata": {},
   "outputs": [
    {
     "data": {
      "text/plain": [
       "<matplotlib.image.AxesImage at 0x125c1ac90>"
      ]
     },
     "execution_count": 5,
     "metadata": {},
     "output_type": "execute_result"
    }
   ],
   "source": [
    "img = lambda fname: mpimg.imread(fname)\n",
    "result = pipeline(img(test4))\n",
    "plt.imshow(result)"
   ]
  },
  {
   "cell_type": "code",
   "execution_count": null,
   "metadata": {},
   "outputs": [],
   "source": []
  },
  {
   "cell_type": "code",
   "execution_count": 6,
   "metadata": {},
   "outputs": [],
   "source": [
    "# img_lab = img(test4)\n",
    "# lab_planes = cv2.split(img_lab)\n",
    "# gridsize = 9\n",
    "# clahe = cv2.createCLAHE(clipLimit=2.0,tileGridSize=(gridsize,gridsize))\n",
    "# lab_planes[0] = clahe.apply(lab_planes[0])\n",
    "# lab = cv2.merge(lab_planes)\n",
    "# #image_original = cv2.cvtColor(lab, cv2.COLOR_LUV2RGB)\n",
    "\n",
    "\n",
    "\n",
    "# test_result = pipeline(lab)\n",
    "# plt.imshow(test_result)"
   ]
  },
  {
   "cell_type": "code",
   "execution_count": 7,
   "metadata": {},
   "outputs": [],
   "source": [
    "# Import everything needed to edit/save/watch video clips\n",
    "from moviepy.editor import VideoFileClip\n",
    "from IPython.display import HTML"
   ]
  },
  {
   "cell_type": "code",
   "execution_count": 8,
   "metadata": {},
   "outputs": [
    {
     "name": "stderr",
     "output_type": "stream",
     "text": [
      "\r",
      "t:   0%|          | 0/1260 [00:00<?, ?it/s, now=None]"
     ]
    },
    {
     "name": "stdout",
     "output_type": "stream",
     "text": [
      "Moviepy - Building video videos_out/new_test2_project_video_processed.mp4.\n",
      "Moviepy - Writing video videos_out/new_test2_project_video_processed.mp4\n",
      "\n"
     ]
    },
    {
     "name": "stderr",
     "output_type": "stream",
     "text": [
      "                                                                \r"
     ]
    },
    {
     "name": "stdout",
     "output_type": "stream",
     "text": [
      "Moviepy - Done !\n",
      "Moviepy - video ready videos_out/new_test2_project_video_processed.mp4\n",
      "CPU times: user 12min 51s, sys: 1min, total: 13min 52s\n",
      "Wall time: 8min 21s\n"
     ]
    }
   ],
   "source": [
    "fname = 'project_video.mp4'\n",
    "output = 'videos_out/new_test2_project_video_processed.mp4'\n",
    "\n",
    "clip1 = VideoFileClip(fname)\n",
    "clip = clip1.fl_image(pipeline)\n",
    "%time clip.write_videofile(output, audio=False)\n",
    "\n",
    "\n"
   ]
  },
  {
   "cell_type": "code",
   "execution_count": null,
   "metadata": {},
   "outputs": [],
   "source": [
    "# # Challange video\n",
    "\n",
    "# clip2 = VideoFileClip('challenge_video.mp4')\n",
    "# clip_challenge = clip2.fl_image(pipeline)\n",
    "# %time clip_challenge.write_videofile('challenge_video_processed.mp4', audio=False)"
   ]
  },
  {
   "cell_type": "markdown",
   "metadata": {},
   "source": [
    "#### Report "
   ]
  },
  {
   "cell_type": "code",
   "execution_count": null,
   "metadata": {},
   "outputs": [],
   "source": [
    "img = lambda fname: mpimg.imread(fname)\n",
    "plt.imshow(img(test4))"
   ]
  },
  {
   "cell_type": "code",
   "execution_count": null,
   "metadata": {},
   "outputs": [],
   "source": [
    "# Undistoretd image \n",
    "mtx, dist = camera_calibrator.get_calibration_matrix()\n",
    "undist_img = distortion_correction.get_undistorted_image(img(test4), mtx, dist, gray_scale=False)\n",
    "#distortion_correction.visualizeUndistortion(img(test2),undist_img)"
   ]
  },
  {
   "cell_type": "code",
   "execution_count": null,
   "metadata": {},
   "outputs": [],
   "source": [
    "# Binary Image \n",
    "\n",
    "binary_image = image_binary_gradient.get_binary_image(undist_img)\n",
    "visualizebinary_image(undist_img, binary_image)"
   ]
  },
  {
   "cell_type": "code",
   "execution_count": null,
   "metadata": {},
   "outputs": [],
   "source": [
    "\n",
    "img_lab = img(test4)\n",
    "lab_planes = cv2.split(img_lab)\n",
    "gridsize = 9\n",
    "clahe = cv2.createCLAHE(clipLimit=2.0,tileGridSize=(gridsize,gridsize))\n",
    "lab_planes[0] = clahe.apply(lab_planes[0])\n",
    "lab = cv2.merge(lab_planes)\n",
    "# image_original = cv2.cvtColor(lab, cv2.COLOR_LUV2RGB)\n",
    "\n",
    "\n",
    "# Undistoretd image \n",
    "mtx, dist = camera_calibrator.get_calibration_matrix()\n",
    "undist_test_img = distortion_correction.get_undistorted_image(lab, mtx, dist, gray_scale=False)\n",
    "#distortion_correction.visualizeUndistortion(img(test2),undist_img)\n",
    "\n",
    "\n",
    "binary_test_image = image_binary_gradient.get_binary_image(undist_test_img)\n",
    "visualizebinary_image(binary_image, binary_test_image)"
   ]
  },
  {
   "cell_type": "code",
   "execution_count": null,
   "metadata": {},
   "outputs": [],
   "source": [
    "# Perspective trasform\n",
    "    \n",
    "top_down = perspective_transform.get_transformed_perspective(binary_image)   \n",
    "birds_view = perspective_transform.get_transformed_perspective(undist_img)  \n",
    "#visualize(undist_img, birds_view)\n"
   ]
  },
  {
   "cell_type": "code",
   "execution_count": null,
   "metadata": {},
   "outputs": [],
   "source": [
    "# # Warp the color zone back to original image space using inverse perspective matrix (Minv)\n",
    "# color_zone_warp = measure_curvature.get_color_zone_warp(top_down)\n",
    "# newwarp  = perspective_transform.get_original_perspective(color_zone_warp)\n",
    "\n",
    "# image = img(test2)\n",
    "# original_img = cv2.addWeighted(image, 1, newwarp, 0.3, 0)\n",
    "# result = measure_curvature.add_text(original_img, top_down)\n",
    "\n",
    "# visualize_result(image , result)"
   ]
  },
  {
   "cell_type": "code",
   "execution_count": null,
   "metadata": {},
   "outputs": [],
   "source": [
    "# def process_image(image_original):\n",
    "#     '''plt.imshow(image_original)\n",
    "#     plt.show()'''\n",
    "#     LUV = image_original\n",
    "#     lab = cv2.cvtColor(LUV, cv2.COLOR_RGB2LUV)\n",
    "#     lab_planes = cv2.split(lab)\n",
    "#     gridsize = 8\n",
    "#     clahe = cv2.createCLAHE(clipLimit=2.0,tileGridSize=(gridsize,gridsize))\n",
    "#     lab_planes[0] = clahe.apply(lab_planes[0])\n",
    "#     lab = cv2.merge(lab_planes)\n",
    "#     image_original = cv2.cvtColor(lab, cv2.COLOR_LUV2RGB)"
   ]
  },
  {
   "cell_type": "code",
   "execution_count": null,
   "metadata": {},
   "outputs": [],
   "source": [
    "plt.imshow(image_original)"
   ]
  },
  {
   "cell_type": "code",
   "execution_count": null,
   "metadata": {},
   "outputs": [],
   "source": [
    "# class Line():\n",
    "#     def __init__(self):\n",
    "        \n",
    "#         self.left_fitx = None, \n",
    "#         self.right_fitx = None, \n",
    "#         self.ploty = None\n",
    "#         self.left_curverad = None,\n",
    "#         self.right_curverad = None,\n",
    "#         self.offset = None\n",
    "\n",
    "# lane = Line()\n",
    "\n",
    "# lane.left_fitx = left_fitx\n",
    "# lane.right_fitx = right_fitx\n",
    "# lane.ploty = ploty\n",
    "# lane.left_curverad = left_curverad\n",
    "# lane.right_curverad = right_curverad\n",
    "# lane.offset = offset"
   ]
  },
  {
   "cell_type": "code",
   "execution_count": null,
   "metadata": {},
   "outputs": [],
   "source": []
  }
 ],
 "metadata": {
  "kernelspec": {
   "display_name": "Python 3",
   "language": "python",
   "name": "python3"
  },
  "language_info": {
   "codemirror_mode": {
    "name": "ipython",
    "version": 3
   },
   "file_extension": ".py",
   "mimetype": "text/x-python",
   "name": "python",
   "nbconvert_exporter": "python",
   "pygments_lexer": "ipython3",
   "version": "3.7.6"
  }
 },
 "nbformat": 4,
 "nbformat_minor": 4
}
